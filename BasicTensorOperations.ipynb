{
 "cells": [
  {
   "cell_type": "code",
   "execution_count": 1,
   "id": "9f8eb86a",
   "metadata": {},
   "outputs": [],
   "source": [
    "import torch"
   ]
  },
  {
   "cell_type": "markdown",
   "id": "07dad50b",
   "metadata": {},
   "source": [
    "### TENSOR CREATIONS"
   ]
  },
  {
   "cell_type": "code",
   "execution_count": 2,
   "id": "066f3473",
   "metadata": {},
   "outputs": [
    {
     "name": "stdout",
     "output_type": "stream",
     "text": [
      "Tensor 1: tensor([1, 2, 3])\n",
      "Tensor of zeros:\n",
      " tensor([[0., 0., 0.],\n",
      "        [0., 0., 0.]])\n",
      "Random tensor:\n",
      " tensor([[ 0.8581, -0.8295,  1.3352],\n",
      "        [ 0.0607, -1.5569, -1.1162]])\n",
      "Shape of tensor_random: torch.Size([2, 3])\n"
     ]
    }
   ],
   "source": [
    "# Creating a tensor from a list\n",
    "tensor_1 = torch.tensor([1, 2, 3])\n",
    "print(\"Tensor 1:\", tensor_1)\n",
    "\n",
    "# Creating a tensor filled with zeros\n",
    "tensor_zeros = torch.zeros((2, 3))  # 2x3 matrix of zeros\n",
    "print(\"Tensor of zeros:\\n\", tensor_zeros)\n",
    "\n",
    "# Creating a tensor with random values\n",
    "tensor_random = torch.randn((2, 3))  # 2x3 matrix with random values\n",
    "print(\"Random tensor:\\n\", tensor_random)\n",
    "\n",
    "# Checking the shape of a tensor\n",
    "print(\"Shape of tensor_random:\", tensor_random.shape)\n"
   ]
  },
  {
   "cell_type": "markdown",
   "id": "7ad7580f",
   "metadata": {},
   "source": [
    "### TENSOR OPERATIONS"
   ]
  },
  {
   "cell_type": "code",
   "execution_count": 3,
   "id": "7c3cf81a",
   "metadata": {},
   "outputs": [
    {
     "name": "stdout",
     "output_type": "stream",
     "text": [
      "Sum of tensors: tensor([5, 7, 9])\n",
      "Matrix multiplication result:\n",
      " tensor([[19, 22],\n",
      "        [43, 50]])\n",
      "Element-wise product: tensor([ 4, 10, 18])\n"
     ]
    }
   ],
   "source": [
    "# Adding two tensors\n",
    "tensor_2 = torch.tensor([4, 5, 6])\n",
    "sum_tensor = tensor_1 + tensor_2\n",
    "print(\"Sum of tensors:\", sum_tensor)\n",
    "\n",
    "# Matrix multiplication\n",
    "matrix_1 = torch.tensor([[1, 2], [3, 4]])\n",
    "matrix_2 = torch.tensor([[5, 6], [7, 8]])\n",
    "product = torch.mm(matrix_1, matrix_2)\n",
    "print(\"Matrix multiplication result:\\n\", product)\n",
    "\n",
    "# Element-wise operations\n",
    "elementwise_product = tensor_1 * tensor_2\n",
    "print(\"Element-wise product:\", elementwise_product)\n"
   ]
  },
  {
   "cell_type": "markdown",
   "id": "371bf6fd",
   "metadata": {},
   "source": [
    "### GPU Operations"
   ]
  },
  {
   "cell_type": "code",
   "execution_count": 4,
   "id": "bfe55909",
   "metadata": {},
   "outputs": [
    {
     "name": "stdout",
     "output_type": "stream",
     "text": [
      "GPU not available.\n"
     ]
    }
   ],
   "source": [
    "# Check if GPU is available\n",
    "if torch.cuda.is_available():\n",
    "    tensor_gpu = tensor_1.to(\"cuda\")\n",
    "    print(\"Tensor on GPU:\", tensor_gpu)\n",
    "else:\n",
    "    print(\"GPU not available.\")"
   ]
  },
  {
   "cell_type": "markdown",
   "id": "75e95083",
   "metadata": {},
   "source": [
    "## Autograd in PyTorch"
   ]
  },
  {
   "cell_type": "code",
   "execution_count": 5,
   "id": "ff2cfc0d",
   "metadata": {},
   "outputs": [
    {
     "name": "stdout",
     "output_type": "stream",
     "text": [
      "Gradient of y with respect to x: tensor(4.)\n"
     ]
    }
   ],
   "source": [
    "# Creating a tensor with requires_grad=True to track operations\n",
    "x = torch.tensor(2.0, requires_grad=True)\n",
    "y = x ** 2  # y = x^2\n",
    "\n",
    "# Backward pass to calculate gradient\n",
    "y.backward()\n",
    "\n",
    "# Gradient of y with respect to x\n",
    "print(\"Gradient of y with respect to x:\", x.grad)"
   ]
  },
  {
   "cell_type": "markdown",
   "id": "9801445c",
   "metadata": {},
   "source": [
    "Autograd is PyTorch's automatic differentiation engine, which is essential for training neural networks. It allows PyTorch to automatically compute the gradients (derivatives) of tensors with respect to some defined loss or objective function. These gradients tell us how much each parameter (such as weights and biases in a model) contributes to the loss, guiding how we should adjust them to minimize the loss."
   ]
  },
  {
   "cell_type": "markdown",
   "id": "08368a21",
   "metadata": {},
   "source": [
    "### Gradients and Computational Graphs"
   ]
  },
  {
   "cell_type": "code",
   "execution_count": null,
   "id": "957dc4b1",
   "metadata": {},
   "outputs": [],
   "source": []
  }
 ],
 "metadata": {
  "kernelspec": {
   "display_name": "Python 3 (ipykernel)",
   "language": "python",
   "name": "python3"
  },
  "language_info": {
   "codemirror_mode": {
    "name": "ipython",
    "version": 3
   },
   "file_extension": ".py",
   "mimetype": "text/x-python",
   "name": "python",
   "nbconvert_exporter": "python",
   "pygments_lexer": "ipython3",
   "version": "3.11.4"
  }
 },
 "nbformat": 4,
 "nbformat_minor": 5
}
